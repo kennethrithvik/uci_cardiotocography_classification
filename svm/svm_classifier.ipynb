{
 "cells": [
  {
   "cell_type": "code",
   "execution_count": 24,
   "metadata": {},
   "outputs": [],
   "source": [
    "import numpy as np\n",
    "import pandas as pd"
   ]
  },
  {
   "cell_type": "code",
   "execution_count": 43,
   "metadata": {},
   "outputs": [],
   "source": [
    "raw_data=pd.read_csv(\"../data/cleaned_data.csv\")\n",
    "tendecy_one_hot=pd.get_dummies(raw_data.loc[:,\"Tendency\"])\n",
    "raw_data=pd.concat([raw_data,tendecy_one_hot],axis=1)\n",
    "raw_data.drop(['Tendency','DR'],axis=1, inplace=True)\n"
   ]
  },
  {
   "cell_type": "code",
   "execution_count": 53,
   "metadata": {},
   "outputs": [],
   "source": [
    "dataset=raw_data.iloc[:,6:]\n",
    "continuous_attributes=dataset.iloc[:,:20]\n",
    "categorical_attributes=dataset.iloc[:,20:]\n",
    "continuous_attributes=(continuous_attributes-continuous_attributes.min())/(continuous_attributes.max()-continuous_attributes.min())\n",
    "dataset=pd.concat([continuous_attributes,categorical_attributes.iloc[:,1:],categorical_attributes.iloc[:,0]],axis=1)\n",
    "dataset.to_csv(\"../data/cleaned_normalized_data.csv\")"
   ]
  },
  {
   "cell_type": "code",
   "execution_count": null,
   "metadata": {
    "collapsed": true
   },
   "outputs": [],
   "source": []
  }
 ],
 "metadata": {
  "kernelspec": {
   "display_name": "Python 3",
   "language": "python",
   "name": "python3"
  },
  "language_info": {
   "codemirror_mode": {
    "name": "ipython",
    "version": 3
   },
   "file_extension": ".py",
   "mimetype": "text/x-python",
   "name": "python",
   "nbconvert_exporter": "python",
   "pygments_lexer": "ipython3",
   "version": "3.6.3"
  }
 },
 "nbformat": 4,
 "nbformat_minor": 2
}
