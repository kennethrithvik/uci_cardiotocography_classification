{
 "cells": [
  {
   "cell_type": "code",
   "execution_count": 1,
   "metadata": {},
   "outputs": [],
   "source": [
    "import numpy as np\n",
    "import pandas as pd"
   ]
  },
  {
   "cell_type": "code",
   "execution_count": 82,
   "metadata": {
    "collapsed": true
   },
   "outputs": [
    {
     "data": {
      "text/plain": [
       "Index(['FileName', 'Date', 'SegFile', 'b', 'e', 'LBE', 'LB', 'AC', 'FM', 'UC',\n",
       "       'ASTV', 'MSTV', 'ALTV', 'MLTV', 'DL', 'DS', 'DP', 'Width', 'Min', 'Max',\n",
       "       'Nmax', 'Nzeros', 'Mode', 'Mean', 'Median', 'Variance', 'NSP',\n",
       "       'left_assymetric', 'right_symmetric', 'symmetric'],\n",
       "      dtype='object')"
      ]
     },
     "execution_count": 82,
     "metadata": {},
     "output_type": "execute_result"
    }
   ],
   "source": [
    "raw_data=pd.read_csv(\"../data/cleaned_data.csv\")\n",
    "tendecy_one_hot=pd.get_dummies(raw_data.loc[:,\"Tendency\"])\n",
    "raw_data=pd.concat([raw_data,tendecy_one_hot],axis=1)\n",
    "raw_data.drop(['Tendency','DR'],axis=1, inplace=True)\n",
    "raw_data.columns"
   ]
  },
  {
   "cell_type": "code",
   "execution_count": 108,
   "metadata": {
    "collapsed": true
   },
   "outputs": [],
   "source": [
    "continuous_attributes=raw_data.iloc[:,3:26]\n",
    "categorical_attributes=raw_data.iloc[:,26:]\n",
    "continuous_attributes=(continuous_attributes-continuous_attributes.min())/(continuous_attributes.max()-continuous_attributes.min())\n",
    "dataset=pd.concat([continuous_attributes,categorical_attributes.iloc[:,1:],categorical_attributes.iloc[:,0]],axis=1)\n",
    "dataset.to_csv(\"../data/cleaned_normalized_data.csv\",index=False)"
   ]
  },
  {
   "cell_type": "code",
   "execution_count": 124,
   "metadata": {},
   "outputs": [],
   "source": [
    "%matplotlib inline\n",
    "import matplotlib.pyplot as plt\n",
    "from matplotlib import style\n",
    "style.use(\"ggplot\")\n",
    "from sklearn import svm\n",
    "from sklearn.model_selection import cross_val_score\n",
    "from sklearn.model_selection import KFold, StratifiedKFold\n",
    "from sklearn.metrics import confusion_matrix, classification_report"
   ]
  },
  {
   "cell_type": "code",
   "execution_count": 125,
   "metadata": {
    "collapsed": true
   },
   "outputs": [],
   "source": [
    "dataset_array=dataset.values\n",
    "data_x=dataset_array[:,:-1]\n",
    "data_y=dataset_array[:,-1]\n",
    "train_x=dataset_array[:1200,:-1]\n",
    "train_y=dataset_array[:1200,-1]\n",
    "test_x=dataset_array[1200:,:-1]\n",
    "test_y=dataset_array[1200:,-1]"
   ]
  },
  {
   "cell_type": "code",
   "execution_count": 143,
   "metadata": {},
   "outputs": [
    {
     "name": "stdout",
     "output_type": "stream",
     "text": [
      "[LibSVM]\n",
      " [[315  16   0]\n",
      " [ 31  28   0]\n",
      " [  6  26   4]]\n",
      "              precision    recall  f1-score   support\n",
      "\n",
      "      normal       0.89      0.95      0.92       331\n",
      "     suspect       0.40      0.47      0.43        59\n",
      "pathological       1.00      0.11      0.20        36\n",
      "\n",
      " avg / total       0.84      0.81      0.79       426\n",
      "\n",
      "accuracy=  81.455399061\n",
      "[LibSVM]\n",
      " [[321  10   0]\n",
      " [ 26  33   0]\n",
      " [ 11  20   4]]\n",
      "              precision    recall  f1-score   support\n",
      "\n",
      "      normal       0.90      0.97      0.93       331\n",
      "     suspect       0.52      0.56      0.54        59\n",
      "pathological       1.00      0.11      0.21        35\n",
      "\n",
      " avg / total       0.85      0.84      0.82       425\n",
      "\n",
      "accuracy=  84.2352941176\n",
      "[LibSVM]\n",
      " [[331   0   0]\n",
      " [ 43  16   0]\n",
      " [  7  10  18]]\n",
      "              precision    recall  f1-score   support\n",
      "\n",
      "      normal       0.87      1.00      0.93       331\n",
      "     suspect       0.62      0.27      0.38        59\n",
      "pathological       1.00      0.51      0.68        35\n",
      "\n",
      " avg / total       0.84      0.86      0.83       425\n",
      "\n",
      "accuracy=  85.8823529412\n",
      "[LibSVM]\n",
      " [[329   2   0]\n",
      " [ 37  19   3]\n",
      " [ 11   0  24]]\n",
      "              precision    recall  f1-score   support\n",
      "\n",
      "      normal       0.87      0.99      0.93       331\n",
      "     suspect       0.90      0.32      0.48        59\n",
      "pathological       0.89      0.69      0.77        35\n",
      "\n",
      " avg / total       0.88      0.88      0.85       425\n",
      "\n",
      "accuracy=  87.5294117647\n",
      "[LibSVM]\n",
      " [[315  13   3]\n",
      " [ 48  11   0]\n",
      " [  1   0  34]]\n",
      "              precision    recall  f1-score   support\n",
      "\n",
      "      normal       0.87      0.95      0.91       331\n",
      "     suspect       0.46      0.19      0.27        59\n",
      "pathological       0.92      0.97      0.94        35\n",
      "\n",
      " avg / total       0.81      0.85      0.82       425\n",
      "\n",
      "accuracy=  84.7058823529\n"
     ]
    }
   ],
   "source": [
    "classifier = svm.SVC(kernel='rbf', C = 1.0, verbose=True)\n",
    "\n",
    "skf=StratifiedKFold(n_splits=5)\n",
    "for train_index, test_index in skf.split(data_x, data_y):\n",
    "    X_train, X_test = data_x[train_index], data_x[test_index]\n",
    "    y_train, y_test = data_y[train_index], data_y[test_index]\n",
    "    classifier.fit(X_train,y_train)\n",
    "    y_pred=classifier.predict(X_test)\n",
    "    confusion_mtx = confusion_matrix(y_test, y_pred) \n",
    "    print(\"\\n\",confusion_mtx)\n",
    "    target_names = ['normal', 'suspect', 'pathological']\n",
    "    print(classification_report(y_test, y_pred, target_names=target_names))\n",
    "    print(\"accuracy= \",(confusion_mtx.diagonal().sum()/confusion_mtx.sum())*100)\n",
    "\n"
   ]
  },
  {
   "cell_type": "code",
   "execution_count": null,
   "metadata": {
    "collapsed": true
   },
   "outputs": [],
   "source": []
  }
 ],
 "metadata": {
  "kernelspec": {
   "display_name": "Python 3",
   "language": "python",
   "name": "python3"
  },
  "language_info": {
   "codemirror_mode": {
    "name": "ipython",
    "version": 3
   },
   "file_extension": ".py",
   "mimetype": "text/x-python",
   "name": "python",
   "nbconvert_exporter": "python",
   "pygments_lexer": "ipython3",
   "version": "3.6.3"
  }
 },
 "nbformat": 4,
 "nbformat_minor": 2
}
