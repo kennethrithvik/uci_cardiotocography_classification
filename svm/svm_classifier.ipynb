{
 "cells": [
  {
   "cell_type": "code",
   "execution_count": 171,
   "metadata": {
    "collapsed": true
   },
   "outputs": [],
   "source": [
    "import numpy as np\n",
    "import pandas as pd"
   ]
  },
  {
   "cell_type": "code",
   "execution_count": 172,
   "metadata": {},
   "outputs": [
    {
     "data": {
      "text/plain": [
       "Index(['FileName', 'Date', 'SegFile', 'b', 'e', 'LBE', 'LB', 'AC', 'FM', 'UC',\n",
       "       'ASTV', 'MSTV', 'ALTV', 'MLTV', 'DL', 'DS', 'DP', 'Width', 'Min', 'Max',\n",
       "       'Nmax', 'Nzeros', 'Mode', 'Mean', 'Median', 'Variance', 'NSP',\n",
       "       'left_assymetric', 'right_symmetric', 'symmetric'],\n",
       "      dtype='object')"
      ]
     },
     "execution_count": 172,
     "metadata": {},
     "output_type": "execute_result"
    }
   ],
   "source": [
    "#One-hot encoding the tendecy variable(3 categories). and dropping DR \n",
    "raw_data=pd.read_csv(\"../data/cleaned_data.csv\")\n",
    "tendecy_one_hot=pd.get_dummies(raw_data.loc[:,\"Tendency\"])\n",
    "raw_data=pd.concat([raw_data,tendecy_one_hot],axis=1)\n",
    "raw_data.drop(['Tendency','DR'],axis=1, inplace=True)\n",
    "raw_data.columns"
   ]
  },
  {
   "cell_type": "code",
   "execution_count": 173,
   "metadata": {},
   "outputs": [],
   "source": [
    "#Normalizing only the continuous variables\n",
    "continuous_attributes=raw_data.iloc[:,6:26]\n",
    "categorical_attributes=raw_data.iloc[:,26:]\n",
    "continuous_attributes=(continuous_attributes-continuous_attributes.min())/(continuous_attributes.max()-continuous_attributes.min())\n",
    "dataset=pd.concat([continuous_attributes,categorical_attributes.iloc[:,1:],categorical_attributes.iloc[:,0]],axis=1)\n",
    "dataset.to_csv(\"../data/cleaned_normalized_data.csv\",index=False)"
   ]
  },
  {
   "cell_type": "code",
   "execution_count": 174,
   "metadata": {
    "collapsed": true
   },
   "outputs": [],
   "source": [
    "%matplotlib inline\n",
    "import matplotlib.pyplot as plt\n",
    "from matplotlib import style\n",
    "style.use(\"ggplot\")\n",
    "from sklearn import svm\n",
    "from sklearn.model_selection import cross_val_score\n",
    "from sklearn.model_selection import KFold, StratifiedKFold\n",
    "from sklearn.metrics import confusion_matrix, classification_report\n",
    "import math"
   ]
  },
  {
   "cell_type": "code",
   "execution_count": 175,
   "metadata": {},
   "outputs": [],
   "source": [
    "#dividing into train and test data\n",
    "dataset_array=dataset.values\n",
    "no_of_instances=len(dataset_array)\n",
    "split=math.floor(0.75*no_of_instances)\n",
    "data_x=dataset_array[:,:-1]\n",
    "data_y=dataset_array[:,-1]\n",
    "X_train=dataset_array[:split,:-1]\n",
    "y_train=dataset_array[:split,-1]\n",
    "X_test=dataset_array[split:,:-1]\n",
    "y_test=dataset_array[split:,-1]"
   ]
  },
  {
   "cell_type": "code",
   "execution_count": 181,
   "metadata": {},
   "outputs": [
    {
     "name": "stdout",
     "output_type": "stream",
     "text": [
      "[LibSVM]\n",
      "Confusion Matrix=\n",
      " [[293 134   9]\n",
      " [  4   5   0]\n",
      " [  4  10  73]]\n",
      "              precision    recall  f1-score   support\n",
      "\n",
      "      normal       0.97      0.67      0.80       436\n",
      "     suspect       0.03      0.56      0.06         9\n",
      "pathological       0.89      0.84      0.86        87\n",
      "\n",
      " avg / total       0.94      0.70      0.79       532\n",
      "\n",
      "accuracy=  69.7368421053\n"
     ]
    }
   ],
   "source": [
    "#Define the SVC classifier using sklearn package\n",
    "classifier = svm.SVC(kernel='linear', C = 1.0, verbose=True)\n",
    "\n",
    "#Training the model\n",
    "classifier.fit(X_train,y_train)\n",
    "\n",
    "#testing the model\n",
    "y_pred=classifier.predict(X_test)\n",
    "\n",
    "#getting the classification metrics\n",
    "confusion_mtx = confusion_matrix(y_test, y_pred) \n",
    "print(\"\\nConfusion Matrix=\\n\",confusion_mtx)\n",
    "target_names = ['normal', 'suspect', 'pathological']\n",
    "print(classification_report(y_test, y_pred, target_names=target_names))\n",
    "print(\"accuracy= \",(confusion_mtx.diagonal().sum()/confusion_mtx.sum())*100)\n",
    "\n"
   ]
  },
  {
   "cell_type": "code",
   "execution_count": null,
   "metadata": {
    "collapsed": true
   },
   "outputs": [],
   "source": []
  }
 ],
 "metadata": {
  "kernelspec": {
   "display_name": "Python 3",
   "language": "python",
   "name": "python3"
  },
  "language_info": {
   "codemirror_mode": {
    "name": "ipython",
    "version": 3
   },
   "file_extension": ".py",
   "mimetype": "text/x-python",
   "name": "python",
   "nbconvert_exporter": "python",
   "pygments_lexer": "ipython3",
   "version": "3.6.3"
  }
 },
 "nbformat": 4,
 "nbformat_minor": 2
}
